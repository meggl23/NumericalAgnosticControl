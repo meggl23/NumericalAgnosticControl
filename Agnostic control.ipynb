{
 "cells": [
  {
   "cell_type": "code",
   "execution_count": null,
   "id": "74898672-cd45-412c-ba0a-387a16d605ac",
   "metadata": {},
   "outputs": [],
   "source": [
    "import numpy as np\n",
    "import matplotlib.pyplot as plt\n",
    "import agnostic_control as ac"
   ]
  },
  {
   "cell_type": "code",
   "execution_count": null,
   "id": "fa6c6da8-b5b8-4bb0-9b55-5f19d402baac",
   "metadata": {},
   "outputs": [],
   "source": [
    "grid = ac.Grid()\n",
    "avals = [-2, 1]\n",
    "probs = [0.8, 0.2]\n",
    "prior = ac.Prior(avals, probs)"
   ]
  },
  {
   "cell_type": "code",
   "execution_count": null,
   "id": "927dc0b2-ca35-4770-a57d-ddf3438f4770",
   "metadata": {},
   "outputs": [],
   "source": [
    "nsteps = 200\n",
    "tmax = 1.0\n",
    "J_expected = ac.expected_cost(grid, prior, nsteps, tmax)\n",
    "u_opt = ac.optimal_control(grid, J_expected)"
   ]
  },
  {
   "cell_type": "code",
   "execution_count": null,
   "id": "e66bc034-09a5-450e-beab-b0197931913d",
   "metadata": {},
   "outputs": [],
   "source": [
    "origin = grid.origin\n",
    "plt.plot(grid.q, J_expected[0,:,origin[1],origin[2]])"
   ]
  },
  {
   "cell_type": "code",
   "execution_count": null,
   "id": "7928e570-8b71-4d02-ba29-a3237e1771c8",
   "metadata": {},
   "outputs": [],
   "source": [
    "def calculate_regret(u, a_vals):\n",
    "    return ac.calculate_regret_vals(grid, tmax, u, a_vals)\n",
    "\n",
    "def plot_regret(prior, a_vals, regret_vals):\n",
    "    plt.plot(a_vals, regret_vals, lw=3)\n",
    "    plt.axvline(prior.a[0], lw=3, ls='--', c='k', label=\"Location of candidate $a$'s in prior\")\n",
    "    plt.axvline(prior.a[1], lw=3, ls='--', c='k')\n",
    "    plt.legend()\n",
    "    plt.xlabel('Value of $a$')\n",
    "    plt.ylabel('Hybrid regret')\n",
    "    plt.title(f\"Maximum regret: {max(regret_vals):.3f}\\n\" +\n",
    "              rf\"with prior $a$ = [{prior.a[0]:.3f}, {prior.a[1]:.3f}], $p$ = [{prior.p[0]:.3f}, {prior.p[1]:.3f}]\")"
   ]
  },
  {
   "cell_type": "code",
   "execution_count": null,
   "id": "d44e97d7-1633-4da9-8dcc-acd956c9176e",
   "metadata": {},
   "outputs": [],
   "source": [
    "a_vals = np.linspace(-3, 1, 32)\n",
    "regret_vals = calculate_regret(u_opt, a_vals)"
   ]
  },
  {
   "cell_type": "code",
   "execution_count": null,
   "id": "32d7b1ba-b324-483a-b305-61af4eb6e53c",
   "metadata": {},
   "outputs": [],
   "source": [
    "plot_regret(prior, a_vals, regret_vals)"
   ]
  },
  {
   "cell_type": "code",
   "execution_count": null,
   "id": "41163019-bb3e-4f63-b04b-6797dd14d3a9",
   "metadata": {},
   "outputs": [],
   "source": [
    "prior2 = ac.Prior([-2, 1], [0.2, 0.8])\n",
    "J_expected2 = ac.expected_cost(grid, prior2, nsteps, tmax)\n",
    "u_opt2 = ac.optimal_control(grid, J_expected2)"
   ]
  },
  {
   "cell_type": "code",
   "execution_count": null,
   "id": "beeabd3b-4f4f-4204-be3f-bbd7a11506a3",
   "metadata": {},
   "outputs": [],
   "source": [
    "regret_vals2 = calculate_regret(u_opt2, a_vals)"
   ]
  },
  {
   "cell_type": "code",
   "execution_count": null,
   "id": "ff4b8665-93dd-463c-9fff-d6852b4b6b12",
   "metadata": {},
   "outputs": [],
   "source": [
    "plot_regret(prior, a_vals, regret_vals)\n",
    "plot_regret(prior2, a_vals, regret_vals2)"
   ]
  },
  {
   "cell_type": "code",
   "execution_count": null,
   "id": "386bf6d4-0f44-4b86-8d2d-e41cbbe515f2",
   "metadata": {},
   "outputs": [],
   "source": [
    "new_prior = ac.optimize_prior(grid, prior, nsteps, tmax, fixed_inds=[1,])"
   ]
  },
  {
   "cell_type": "code",
   "execution_count": null,
   "id": "54629adf-a296-43e7-a5b5-292380c8439b",
   "metadata": {},
   "outputs": [],
   "source": [
    "J_expected3 = ac.expected_cost(grid, new_prior, nsteps, tmax)\n",
    "u_opt3 = ac.optimal_control(grid, J_expected3)\n",
    "regret_vals3 = calculate_regret(u_opt3, a_vals)\n",
    "plot_regret(new_prior, a_vals, regret_vals3)"
   ]
  },
  {
   "cell_type": "markdown",
   "id": "be25630b-4104-45f0-a8b2-98dab8fcabb6",
   "metadata": {},
   "source": [
    "### Compare with previous code"
   ]
  },
  {
   "cell_type": "code",
   "execution_count": null,
   "id": "467d5f77-dd3e-4701-8cba-491fc9542d80",
   "metadata": {},
   "outputs": [],
   "source": [
    "import PDESolver as tp2"
   ]
  },
  {
   "cell_type": "code",
   "execution_count": null,
   "id": "a9c4b664-4713-411f-b94a-594163e9b137",
   "metadata": {},
   "outputs": [],
   "source": [
    "q0   = 0.0 # starting position of the state\n",
    "lam  = 1.0 # redundant\n",
    "\n",
    "tmin = 0\n",
    "tmax = 1\n",
    "tpts = int(tmax*200)+1\n",
    "\n",
    "# Example prior\n",
    "avec   = np.array([-2, 1.])\n",
    "arho   = np.array([0.81  ,0.19])\n",
    "\n",
    "#Simulation parameters\n",
    "params = tp2.Parameters(tmin,tmax,avec,arho,q0,lam,a=None)\n",
    "\n",
    "#Grid for simulation\n",
    "grid2 = tp2.Grid(51,-np.pi,np.pi,27,-4.,4.,26,0.,8.,tpts,tmin,tmax)"
   ]
  },
  {
   "cell_type": "code",
   "execution_count": null,
   "id": "e2fa4fb4-2f16-48c2-a8c3-df4a4bda96d8",
   "metadata": {},
   "outputs": [],
   "source": [
    "Sh, S, S0 = tp2.SingleSolve(avec, arho, grid2, params)"
   ]
  },
  {
   "cell_type": "code",
   "execution_count": null,
   "id": "14e16711-266c-44af-88cc-82774a3c780d",
   "metadata": {},
   "outputs": [],
   "source": [
    "params.a"
   ]
  },
  {
   "cell_type": "code",
   "execution_count": null,
   "id": "58e3ba31-f856-4dd2-b3a2-3737c597d9fe",
   "metadata": {},
   "outputs": [],
   "source": [
    "# compare Sh (expected cost for given prior) with J_expected\n",
    "origin = grid.origin\n",
    "tstep = 0\n",
    "nx1 = origin[1]\n",
    "# nx1 = 17\n",
    "plt.plot(grid.q, J_expected[tstep, :, nx1, origin[2]])\n",
    "plt.plot(grid.q, Sh[:, nx1, origin[2]],'--')"
   ]
  },
  {
   "cell_type": "code",
   "execution_count": null,
   "id": "08789d54-13d0-4968-a758-663ae095a630",
   "metadata": {},
   "outputs": [],
   "source": [
    "J_known0 = ac.cost_known_a(grid, nsteps, tmax, u_opt, a=0)"
   ]
  },
  {
   "cell_type": "code",
   "execution_count": null,
   "id": "c9f95690-e8aa-4679-838e-85696d7af0a5",
   "metadata": {},
   "outputs": [],
   "source": [
    "# compare S (cost, for given a, of Bayesian strategy) with J_known0\n",
    "nx1 = origin[1]\n",
    "plt.plot(grid.q, J_known0[:, nx1, origin[2]])\n",
    "plt.plot(grid.q, S[:, nx1, origin[2]], '--')"
   ]
  },
  {
   "cell_type": "code",
   "execution_count": null,
   "id": "b8e4c116-3ac6-4cf2-bf50-9a2222cafb3d",
   "metadata": {},
   "outputs": [],
   "source": [
    "newton = tp2.NewtonSolver(1e-4, 1e-3)"
   ]
  },
  {
   "cell_type": "code",
   "execution_count": null,
   "id": "1e916e26-fb10-4393-8214-62e6834b6d00",
   "metadata": {},
   "outputs": [],
   "source": [
    "avec4, arho4, regret4 = newton.Solver(grid2, avec, arho, params)"
   ]
  },
  {
   "cell_type": "code",
   "execution_count": null,
   "id": "25717d2f-7817-42f8-8e7e-c7cc2e94dbc6",
   "metadata": {},
   "outputs": [],
   "source": [
    "print(avec4)\n",
    "print(arho4)\n",
    "print(regret4)"
   ]
  },
  {
   "cell_type": "code",
   "execution_count": null,
   "id": "4753dcf8-74cc-41e2-9b96-16e5afc74a60",
   "metadata": {},
   "outputs": [],
   "source": [
    "# compare rhs values at t = tmax\n",
    "t = 1.0\n",
    "dt = 1 / nsteps\n",
    "tstep = 100\n",
    "t = tstep * dt\n",
    "origin = grid.origin\n",
    "\n",
    "# Clancy's code\n",
    "prior3 = ac.Prior(params.avec, params.arho)\n",
    "abar = ac.calculate_abar(grid, prior3, t)\n",
    "rhs1 = ac.rhs_expected_cost(grid, prior3, J_expected[tstep], t)\n",
    "\n",
    "# Max's code\n",
    "rhs_obj = tp2.RHS()\n",
    "field = tp2.Field(grid2, params)\n",
    "abar2 = field.abar(t)\n",
    "S = np.zeros(grid.shape)\n",
    "rhs_Sh, rhs_S = rhs_obj.rhs_Sh_S(S, J_expected[tstep], abar2, grid2, params)"
   ]
  },
  {
   "cell_type": "code",
   "execution_count": null,
   "id": "a4993d94-f2f3-4677-b5f7-67998c0a3921",
   "metadata": {},
   "outputs": [],
   "source": [
    "# compare right-hand sides, as a function of q\n",
    "plt.plot(grid.q[1:-1], rhs1[1:-1,::2,origin[2]],'-x');\n",
    "plt.plot(grid.q[1:-1], rhs_Sh[1:-1,::2,origin[2]],'--');\n",
    "plt.xlabel(\"q\")\n",
    "plt.title(\"Right-hand side at x2 = 0\")"
   ]
  },
  {
   "cell_type": "code",
   "execution_count": null,
   "id": "363e2680-2458-4248-84af-3bec7e6eb8a4",
   "metadata": {},
   "outputs": [],
   "source": [
    "plt.plot(grid.q, abar[:,origin[1],origin[2]], '-x')\n",
    "plt.xlabel('q')\n",
    "plt.ylabel(r'$\\bar a$')\n",
    "plt.title(f\"t = {t:.2f}\");"
   ]
  },
  {
   "cell_type": "code",
   "execution_count": null,
   "id": "0dcdd079-3ba2-41a4-8b93-cb80b0c69719",
   "metadata": {},
   "outputs": [],
   "source": [
    "plt.plot(grid.x1, abar[0,:,origin[2]], '-x', label=f\"q = {grid.q[0]:.2f}\")\n",
    "plt.plot(grid.x1, abar[origin[0],:,origin[2]], '-x', label=f\"q = {grid.q[origin[0]]:.2f}\")\n",
    "plt.plot(grid.x1, abar[-1,:,origin[2]], '-x', label=f\"q = {grid.q[-1]:.2f}\")\n",
    "plt.xlabel(r'$\\zeta_1$')\n",
    "plt.ylabel(r'$\\bar a$')\n",
    "plt.legend()\n",
    "plt.title(f\"t = {t:.2f}\");"
   ]
  },
  {
   "cell_type": "code",
   "execution_count": null,
   "id": "2b438047-1335-44e2-a773-0f36a181cb33",
   "metadata": {},
   "outputs": [],
   "source": [
    "plt.plot(grid.x2, abar[0,origin[1],:], '-x', label=f\"q = {grid.q[0]:.2f}\")\n",
    "plt.plot(grid.x2, abar[origin[0],origin[1],:], '-x', label=f\"q = {grid.q[origin[0]]:.2f}\")\n",
    "plt.plot(grid.x2, abar[-1,origin[1],:], '-x', label=f\"q = {grid.q[-1]:.2f}\")\n",
    "plt.xlabel(r'$\\zeta_2$')\n",
    "plt.ylabel(r'$\\bar a$')\n",
    "plt.title(f\"t = {t:.2f}\")\n",
    "plt.legend();"
   ]
  }
 ],
 "metadata": {
  "kernelspec": {
   "display_name": "Python 3 (ipykernel)",
   "language": "python",
   "name": "python3"
  },
  "language_info": {
   "codemirror_mode": {
    "name": "ipython",
    "version": 3
   },
   "file_extension": ".py",
   "mimetype": "text/x-python",
   "name": "python",
   "nbconvert_exporter": "python",
   "pygments_lexer": "ipython3",
   "version": "3.11.9"
  }
 },
 "nbformat": 4,
 "nbformat_minor": 5
}
